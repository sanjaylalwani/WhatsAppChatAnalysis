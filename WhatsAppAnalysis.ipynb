{
  "nbformat": 4,
  "nbformat_minor": 0,
  "metadata": {
    "colab": {
      "name": "WhatsAppAnalysis.ipynb",
      "provenance": [],
      "collapsed_sections": []
    },
    "kernelspec": {
      "name": "python3",
      "display_name": "Python 3"
    },
    "language_info": {
      "name": "python"
    }
  },
  "cells": [
    {
      "cell_type": "code",
      "metadata": {
        "id": "35OiFhfpMnQ-",
        "colab": {
          "base_uri": "https://localhost:8080/"
        },
        "outputId": "0607edc6-1e02-47c8-88f3-bff14cbc2352"
      },
      "source": [
        "!pip install emoji"
      ],
      "execution_count": 1,
      "outputs": [
        {
          "output_type": "stream",
          "text": [
            "Collecting emoji\n",
            "  Downloading emoji-1.4.1.tar.gz (185 kB)\n",
            "\u001b[?25l\r\u001b[K     |█▊                              | 10 kB 15.8 MB/s eta 0:00:01\r\u001b[K     |███▌                            | 20 kB 20.1 MB/s eta 0:00:01\r\u001b[K     |█████▎                          | 30 kB 24.8 MB/s eta 0:00:01\r\u001b[K     |███████                         | 40 kB 19.2 MB/s eta 0:00:01\r\u001b[K     |████████▉                       | 51 kB 9.6 MB/s eta 0:00:01\r\u001b[K     |██████████▋                     | 61 kB 7.9 MB/s eta 0:00:01\r\u001b[K     |████████████▍                   | 71 kB 8.9 MB/s eta 0:00:01\r\u001b[K     |██████████████▏                 | 81 kB 9.0 MB/s eta 0:00:01\r\u001b[K     |████████████████                | 92 kB 7.7 MB/s eta 0:00:01\r\u001b[K     |█████████████████▊              | 102 kB 8.3 MB/s eta 0:00:01\r\u001b[K     |███████████████████▌            | 112 kB 8.3 MB/s eta 0:00:01\r\u001b[K     |█████████████████████▎          | 122 kB 8.3 MB/s eta 0:00:01\r\u001b[K     |███████████████████████         | 133 kB 8.3 MB/s eta 0:00:01\r\u001b[K     |████████████████████████▉       | 143 kB 8.3 MB/s eta 0:00:01\r\u001b[K     |██████████████████████████▌     | 153 kB 8.3 MB/s eta 0:00:01\r\u001b[K     |████████████████████████████▎   | 163 kB 8.3 MB/s eta 0:00:01\r\u001b[K     |██████████████████████████████  | 174 kB 8.3 MB/s eta 0:00:01\r\u001b[K     |███████████████████████████████▉| 184 kB 8.3 MB/s eta 0:00:01\r\u001b[K     |████████████████████████████████| 185 kB 8.3 MB/s \n",
            "\u001b[?25hBuilding wheels for collected packages: emoji\n",
            "  Building wheel for emoji (setup.py) ... \u001b[?25l\u001b[?25hdone\n",
            "  Created wheel for emoji: filename=emoji-1.4.1-py3-none-any.whl size=186393 sha256=0cb38a780b964e27de67029c27ff026f0d9343a72d55160dbf942e57fd05026e\n",
            "  Stored in directory: /root/.cache/pip/wheels/8e/68/ac/537456a5331f1405779f2b3c2a578429d2f6d7419e440330d8\n",
            "Successfully built emoji\n",
            "Installing collected packages: emoji\n",
            "Successfully installed emoji-1.4.1\n"
          ],
          "name": "stdout"
        }
      ]
    },
    {
      "cell_type": "code",
      "metadata": {
        "id": "XGa7USHKgKFL"
      },
      "source": [
        "import re\n",
        "import regex\n",
        "import pandas as pd\n",
        "import numpy as np\n",
        "import emoji\n",
        "import plotly.express as px\n",
        "from collections import Counter\n",
        "import matplotlib.pyplot as plt\n",
        "from os import path\n",
        "from PIL import Image\n",
        "from wordcloud import WordCloud, STOPWORDS, ImageColorGenerator\n",
        "% matplotlib inline"
      ],
      "execution_count": 2,
      "outputs": []
    },
    {
      "cell_type": "markdown",
      "metadata": {
        "id": "tOcA1rET7Tji"
      },
      "source": [
        "# Basic functions"
      ]
    },
    {
      "cell_type": "code",
      "metadata": {
        "id": "IoQKqR5mgMpG"
      },
      "source": [
        "def startsWithDateAndTime(s):\n",
        "    pattern = '^([0-9]+)(\\/)([0-9]+)(\\/)([0-9]+), ([0-9]+):([0-9][0-9]):([0-9][0-9]) (AM|PM|am|pm)? -'\n",
        "    result = re.match(pattern, s)\n",
        "    if result:\n",
        "        return True\n",
        "    return False"
      ],
      "execution_count": 3,
      "outputs": []
    },
    {
      "cell_type": "code",
      "metadata": {
        "id": "yELdj6j9gV71"
      },
      "source": [
        "def FindAuthor(s):\n",
        "    patterns = [\n",
        "        '([\\w]+):',                        # First Name\n",
        "        '([\\w]+[\\s]+[\\w]+):',              # First Name + Last Name\n",
        "        '([\\w]+[\\s]+[\\w]+[\\s]+[\\w]+):',    # First Name + Middle Name + Last Name\n",
        "        '([+]\\d{2} \\d{5} \\d{5}):',         # Mobile Number (India)\n",
        "        '([+]\\d{2} \\d{3} \\d{3} \\d{4}):',   # Mobile Number (US)\n",
        "        '([\\w]+)[\\u263a-\\U0001f999]+:',    # Name and Emoji              \n",
        "    ]\n",
        "    pattern = '^' + '|'.join(patterns)\n",
        "    result = re.match(pattern, s)\n",
        "    if result:\n",
        "        return True\n",
        "    return False"
      ],
      "execution_count": 4,
      "outputs": []
    },
    {
      "cell_type": "code",
      "metadata": {
        "id": "LI6Bl6VFgZbx"
      },
      "source": [
        "def getDataPoint(line):   \n",
        "    splitLine = line.split(' - ') \n",
        "    dateTime = splitLine[0]\n",
        "    date, time = dateTime.split(', ') \n",
        "    message = ' '.join(splitLine[1:])\n",
        "    if FindAuthor(message): \n",
        "        splitMessage = message.split(': ') \n",
        "        author = splitMessage[0] \n",
        "        message = ' '.join(splitMessage[1:])\n",
        "    else:\n",
        "        author = None\n",
        "    return date, time, author, message"
      ],
      "execution_count": 5,
      "outputs": []
    },
    {
      "cell_type": "code",
      "metadata": {
        "id": "z9araeuKrF7y"
      },
      "source": [
        "def getDayPart(x):\n",
        "    if (x > 4) and (x <= 8):\n",
        "        return 'Early Morning'\n",
        "    elif (x > 8) and (x <= 12 ):\n",
        "        return 'Morning'\n",
        "    elif (x > 12) and (x <= 16):\n",
        "        return'Noon'\n",
        "    elif (x > 16) and (x <= 20) :\n",
        "        return 'Evening'\n",
        "    elif (x > 20) and (x <= 24):\n",
        "        return'Night'\n",
        "    elif (x <= 4):\n",
        "        return'Late Night'"
      ],
      "execution_count": 7,
      "outputs": []
    },
    {
      "cell_type": "code",
      "metadata": {
        "id": "17hOvhTvgfpv"
      },
      "source": [
        "parsedData = [] # List to keep track of data so it can be used by a Pandas dataframe\n",
        "\n",
        "conversationPath = 'WhatsAppChat.txt'\n",
        "\n",
        "\n",
        "with open(conversationPath, encoding=\"utf-8\") as fp:\n",
        "    fp.readline() # Skipping first line of the file because contains information related to something about end-to-end encryption\n",
        "    messageBuffer = [] \n",
        "    date, time, author = None, None, None\n",
        "    while True:\n",
        "         \n",
        "        line = fp.readline() \n",
        "        if not line: \n",
        "            break\n",
        "        line = line.strip()\n",
        "        if startsWithDateAndTime(line):            \n",
        "            if len(messageBuffer) > 0: \n",
        "                parsedData.append([date, time, author, ' '.join(messageBuffer)]) \n",
        "            messageBuffer.clear() \n",
        "            date, time, author, message = getDataPoint(line) \n",
        "            messageBuffer.append(message) \n",
        "        else:\n",
        "            messageBuffer.append(line)"
      ],
      "execution_count": 8,
      "outputs": []
    },
    {
      "cell_type": "code",
      "metadata": {
        "id": "9FOH-9Z0g80X"
      },
      "source": [
        "df = pd.DataFrame(parsedData, columns=['Date', 'Time', 'Author', 'Message']) # Initialising a pandas Dataframe.\n",
        "df[\"Date\"] = pd.to_datetime(df[\"Date\"])"
      ],
      "execution_count": 9,
      "outputs": []
    },
    {
      "cell_type": "code",
      "metadata": {
        "colab": {
          "base_uri": "https://localhost:8080/",
          "height": 204
        },
        "id": "wYfGb9q-hAPm",
        "outputId": "63681efb-b503-4d47-aa0f-23d2110a2c43"
      },
      "source": [
        "df.head()"
      ],
      "execution_count": 10,
      "outputs": [
        {
          "output_type": "execute_result",
          "data": {
            "text/html": [
              "<div>\n",
              "<style scoped>\n",
              "    .dataframe tbody tr th:only-of-type {\n",
              "        vertical-align: middle;\n",
              "    }\n",
              "\n",
              "    .dataframe tbody tr th {\n",
              "        vertical-align: top;\n",
              "    }\n",
              "\n",
              "    .dataframe thead th {\n",
              "        text-align: right;\n",
              "    }\n",
              "</style>\n",
              "<table border=\"1\" class=\"dataframe\">\n",
              "  <thead>\n",
              "    <tr style=\"text-align: right;\">\n",
              "      <th></th>\n",
              "      <th>Date</th>\n",
              "      <th>Time</th>\n",
              "      <th>Author</th>\n",
              "      <th>Message</th>\n",
              "    </tr>\n",
              "  </thead>\n",
              "  <tbody>\n",
              "    <tr>\n",
              "      <th>0</th>\n",
              "      <td>2015-06-25</td>\n",
              "      <td>1:42:12 AM</td>\n",
              "      <td>None</td>\n",
              "      <td>‎You were added</td>\n",
              "    </tr>\n",
              "    <tr>\n",
              "      <th>1</th>\n",
              "      <td>2016-12-18</td>\n",
              "      <td>1:57:38 AM</td>\n",
              "      <td>Shahain</td>\n",
              "      <td>&lt;‎image omitted&gt;</td>\n",
              "    </tr>\n",
              "    <tr>\n",
              "      <th>2</th>\n",
              "      <td>2016-12-21</td>\n",
              "      <td>9:54:46 PM</td>\n",
              "      <td>Pankaj Sinha</td>\n",
              "      <td>&lt;‎image omitted&gt;</td>\n",
              "    </tr>\n",
              "    <tr>\n",
              "      <th>3</th>\n",
              "      <td>2016-12-21</td>\n",
              "      <td>9:57:45 PM</td>\n",
              "      <td>Shahain</td>\n",
              "      <td>Wow</td>\n",
              "    </tr>\n",
              "    <tr>\n",
              "      <th>4</th>\n",
              "      <td>2016-12-21</td>\n",
              "      <td>10:48:51 PM</td>\n",
              "      <td>Sakshi</td>\n",
              "      <td>&lt;‎image omitted&gt;</td>\n",
              "    </tr>\n",
              "  </tbody>\n",
              "</table>\n",
              "</div>"
            ],
            "text/plain": [
              "        Date         Time        Author           Message\n",
              "0 2015-06-25   1:42:12 AM          None   ‎You were added\n",
              "1 2016-12-18   1:57:38 AM       Shahain  <‎image omitted>\n",
              "2 2016-12-21   9:54:46 PM  Pankaj Sinha  <‎image omitted>\n",
              "3 2016-12-21   9:57:45 PM       Shahain               Wow\n",
              "4 2016-12-21  10:48:51 PM        Sakshi  <‎image omitted>"
            ]
          },
          "metadata": {
            "tags": []
          },
          "execution_count": 10
        }
      ]
    },
    {
      "cell_type": "code",
      "metadata": {
        "colab": {
          "base_uri": "https://localhost:8080/"
        },
        "id": "uvEVzZG5hD25",
        "outputId": "a51e0e08-6f17-4344-c93b-4da64f64a88f"
      },
      "source": [
        "df.info()"
      ],
      "execution_count": 11,
      "outputs": [
        {
          "output_type": "stream",
          "text": [
            "<class 'pandas.core.frame.DataFrame'>\n",
            "RangeIndex: 390 entries, 0 to 389\n",
            "Data columns (total 4 columns):\n",
            " #   Column   Non-Null Count  Dtype         \n",
            "---  ------   --------------  -----         \n",
            " 0   Date     390 non-null    datetime64[ns]\n",
            " 1   Time     390 non-null    object        \n",
            " 2   Author   357 non-null    object        \n",
            " 3   Message  390 non-null    object        \n",
            "dtypes: datetime64[ns](1), object(3)\n",
            "memory usage: 12.3+ KB\n"
          ],
          "name": "stdout"
        }
      ]
    },
    {
      "cell_type": "markdown",
      "metadata": {
        "id": "9NfCrCzGys0t"
      },
      "source": [
        "Author has few blank data, that can be when someone added/left group, or security messages from WhatsApp itself. "
      ]
    },
    {
      "cell_type": "code",
      "metadata": {
        "colab": {
          "base_uri": "https://localhost:8080/"
        },
        "id": "5F7IcWqShFmU",
        "outputId": "cebbcd90-37b8-4fcd-b009-75976ac0ada0"
      },
      "source": [
        "df.Author.unique()"
      ],
      "execution_count": 12,
      "outputs": [
        {
          "output_type": "execute_result",
          "data": {
            "text/plain": [
              "array([None, 'Shahain', 'Pankaj Sinha', 'Sakshi', 'Neha Wipro', 'Ganguly',\n",
              "       'Vishnu Gaud', 'Venu Wipro', 'Kushbhu', 'Preeti', 'Mukti Sharma',\n",
              "       'Shweta', 'Kranthi', 'Sahil Phatania', 'Shradha',\n",
              "       'Yogesh Raghavan'], dtype=object)"
            ]
          },
          "metadata": {
            "tags": []
          },
          "execution_count": 12
        }
      ]
    },
    {
      "cell_type": "markdown",
      "metadata": {
        "id": "avjgCwThzjnQ"
      },
      "source": [
        "Lets Drop all data with blank Author"
      ]
    },
    {
      "cell_type": "code",
      "metadata": {
        "id": "GlyacdGQhK1E",
        "colab": {
          "base_uri": "https://localhost:8080/"
        },
        "outputId": "f7e2b5ea-542d-4dc0-9a14-3fb47459fe46"
      },
      "source": [
        "df = df.dropna()\n",
        "df.info()"
      ],
      "execution_count": 13,
      "outputs": [
        {
          "output_type": "stream",
          "text": [
            "<class 'pandas.core.frame.DataFrame'>\n",
            "Int64Index: 357 entries, 1 to 387\n",
            "Data columns (total 4 columns):\n",
            " #   Column   Non-Null Count  Dtype         \n",
            "---  ------   --------------  -----         \n",
            " 0   Date     357 non-null    datetime64[ns]\n",
            " 1   Time     357 non-null    object        \n",
            " 2   Author   357 non-null    object        \n",
            " 3   Message  357 non-null    object        \n",
            "dtypes: datetime64[ns](1), object(3)\n",
            "memory usage: 13.9+ KB\n"
          ],
          "name": "stdout"
        }
      ]
    },
    {
      "cell_type": "code",
      "metadata": {
        "colab": {
          "base_uri": "https://localhost:8080/"
        },
        "id": "K16WX3gVGPhj",
        "outputId": "aacd8e1d-a40c-418b-82dd-7bff1b633e74"
      },
      "source": [
        "df.Author.unique()"
      ],
      "execution_count": 14,
      "outputs": [
        {
          "output_type": "execute_result",
          "data": {
            "text/plain": [
              "array(['Shahain', 'Pankaj Sinha', 'Sakshi', 'Neha Wipro', 'Ganguly',\n",
              "       'Vishnu Gaud', 'Venu Wipro', 'Kushbhu', 'Preeti', 'Mukti Sharma',\n",
              "       'Shweta', 'Kranthi', 'Sahil Phatania', 'Shradha',\n",
              "       'Yogesh Raghavan'], dtype=object)"
            ]
          },
          "metadata": {
            "tags": []
          },
          "execution_count": 14
        }
      ]
    },
    {
      "cell_type": "code",
      "metadata": {
        "colab": {
          "base_uri": "https://localhost:8080/"
        },
        "id": "BpNBUszKGXJu",
        "outputId": "bfb3b5b5-4f1c-46cf-97b8-1a81e5ec2567"
      },
      "source": [
        "total_messages = df.shape[0]\n",
        "print(total_messages)"
      ],
      "execution_count": 15,
      "outputs": [
        {
          "output_type": "stream",
          "text": [
            "357\n"
          ],
          "name": "stdout"
        }
      ]
    },
    {
      "cell_type": "markdown",
      "metadata": {
        "id": "8K7FS0O2zswg"
      },
      "source": [
        "We need to check Media messages. We can have image, video, or Media. But my dataset has only images"
      ]
    },
    {
      "cell_type": "code",
      "metadata": {
        "colab": {
          "base_uri": "https://localhost:8080/"
        },
        "id": "72DkIyhcGbPw",
        "outputId": "20279456-50cd-487c-d8d0-58e2515c49ec"
      },
      "source": [
        "media_messages = df[df['Message'] == '<‎image omitted>'].shape[0]\n",
        "print(media_messages)"
      ],
      "execution_count": 16,
      "outputs": [
        {
          "output_type": "stream",
          "text": [
            "24\n"
          ],
          "name": "stdout"
        }
      ]
    },
    {
      "cell_type": "markdown",
      "metadata": {
        "id": "PbgiJp5Vz8Cd"
      },
      "source": [
        "Count "
      ]
    },
    {
      "cell_type": "code",
      "metadata": {
        "colab": {
          "base_uri": "https://localhost:8080/"
        },
        "id": "WPBAPWO6Hg1b",
        "outputId": "e0589d19-ea44-47d9-f1de-d0bd03fb57f8"
      },
      "source": [
        "import emoji\n",
        "\n",
        "def extract_emojis(s):\n",
        "  return ''.join(c for c in s if c in emoji.UNICODE_EMOJI['en'])\n",
        "\n",
        "df[\"emoji\"] = df[\"Message\"].apply(extract_emojis)\n",
        "emojis = sum(df['emoji'].str.len())\n",
        "print(emojis)"
      ],
      "execution_count": 47,
      "outputs": [
        {
          "output_type": "stream",
          "text": [
            "648\n"
          ],
          "name": "stdout"
        }
      ]
    },
    {
      "cell_type": "code",
      "metadata": {
        "id": "abrwg6_6Hq35"
      },
      "source": [
        "URLPATTERN = r'(https?://\\S+)'\n",
        "df['urlcount'] = df.Message.apply(lambda x: re.findall(URLPATTERN, x)).str.len()\n",
        "links = np.sum(df.urlcount)"
      ],
      "execution_count": 18,
      "outputs": []
    },
    {
      "cell_type": "code",
      "metadata": {
        "colab": {
          "base_uri": "https://localhost:8080/"
        },
        "id": "B5O09-0yHx-Z",
        "outputId": "bc093c1c-03d7-4e2f-c82f-fb23f08194d3"
      },
      "source": [
        "print(\"Group Wise Stats\")\n",
        "print(\"Messages:\",total_messages)\n",
        "print(\"Media:\",media_messages)\n",
        "print(\"Emojis:\",emojis)\n",
        "print(\"Links:\",links)"
      ],
      "execution_count": 48,
      "outputs": [
        {
          "output_type": "stream",
          "text": [
            "Group Wise Stats\n",
            "Messages: 357\n",
            "Media: 24\n",
            "Emojis: 648\n",
            "Links: 0\n"
          ],
          "name": "stdout"
        }
      ]
    },
    {
      "cell_type": "code",
      "metadata": {
        "id": "rOlasLqwH0hB"
      },
      "source": [
        "media_messages_df = df[df['Message'] == '<‎image omitted>']"
      ],
      "execution_count": 49,
      "outputs": []
    },
    {
      "cell_type": "code",
      "metadata": {
        "colab": {
          "base_uri": "https://localhost:8080/"
        },
        "id": "UTCYSdDuISCE",
        "outputId": "27c8d3fe-e40d-4209-eb05-ef6dad03012f"
      },
      "source": [
        "messages_df = df.drop(media_messages_df.index)\n",
        "messages_df.info()"
      ],
      "execution_count": 50,
      "outputs": [
        {
          "output_type": "stream",
          "text": [
            "<class 'pandas.core.frame.DataFrame'>\n",
            "Int64Index: 333 entries, 3 to 387\n",
            "Data columns (total 6 columns):\n",
            " #   Column    Non-Null Count  Dtype         \n",
            "---  ------    --------------  -----         \n",
            " 0   Date      333 non-null    datetime64[ns]\n",
            " 1   Time      333 non-null    object        \n",
            " 2   Author    333 non-null    object        \n",
            " 3   Message   333 non-null    object        \n",
            " 4   emoji     333 non-null    object        \n",
            " 5   urlcount  333 non-null    int64         \n",
            "dtypes: datetime64[ns](1), int64(1), object(4)\n",
            "memory usage: 18.2+ KB\n"
          ],
          "name": "stdout"
        }
      ]
    },
    {
      "cell_type": "code",
      "metadata": {
        "id": "NdvNyBNTIe_E"
      },
      "source": [
        "messages_df['Letter_Count'] = messages_df['Message'].apply(lambda s : len(s))\n",
        "messages_df['Word_Count'] = messages_df['Message'].apply(lambda s : len(s.split(' ')))\n",
        "messages_df[\"MessageCount\"]=1"
      ],
      "execution_count": 51,
      "outputs": []
    },
    {
      "cell_type": "code",
      "metadata": {
        "colab": {
          "base_uri": "https://localhost:8080/",
          "height": 204
        },
        "id": "Srs4mejfIhvL",
        "outputId": "be84580e-f4b7-4086-d582-93224c8b4ab6"
      },
      "source": [
        "messages_df.head()"
      ],
      "execution_count": 54,
      "outputs": [
        {
          "output_type": "execute_result",
          "data": {
            "text/html": [
              "<div>\n",
              "<style scoped>\n",
              "    .dataframe tbody tr th:only-of-type {\n",
              "        vertical-align: middle;\n",
              "    }\n",
              "\n",
              "    .dataframe tbody tr th {\n",
              "        vertical-align: top;\n",
              "    }\n",
              "\n",
              "    .dataframe thead th {\n",
              "        text-align: right;\n",
              "    }\n",
              "</style>\n",
              "<table border=\"1\" class=\"dataframe\">\n",
              "  <thead>\n",
              "    <tr style=\"text-align: right;\">\n",
              "      <th></th>\n",
              "      <th>Date</th>\n",
              "      <th>Time</th>\n",
              "      <th>Author</th>\n",
              "      <th>Message</th>\n",
              "      <th>emoji</th>\n",
              "      <th>urlcount</th>\n",
              "      <th>Letter_Count</th>\n",
              "      <th>Word_Count</th>\n",
              "      <th>MessageCount</th>\n",
              "      <th>emojicount</th>\n",
              "    </tr>\n",
              "  </thead>\n",
              "  <tbody>\n",
              "    <tr>\n",
              "      <th>3</th>\n",
              "      <td>2016-12-21</td>\n",
              "      <td>9:57:45 PM</td>\n",
              "      <td>Shahain</td>\n",
              "      <td>Wow</td>\n",
              "      <td></td>\n",
              "      <td>0</td>\n",
              "      <td>3</td>\n",
              "      <td>1</td>\n",
              "      <td>1</td>\n",
              "      <td>0</td>\n",
              "    </tr>\n",
              "    <tr>\n",
              "      <th>6</th>\n",
              "      <td>2016-12-21</td>\n",
              "      <td>10:50:12 PM</td>\n",
              "      <td>Neha Wipro</td>\n",
              "      <td>Awsum😀😀👍🏼👍🏼</td>\n",
              "      <td>😀😀👍🏼👍🏼</td>\n",
              "      <td>0</td>\n",
              "      <td>11</td>\n",
              "      <td>1</td>\n",
              "      <td>1</td>\n",
              "      <td>6</td>\n",
              "    </tr>\n",
              "    <tr>\n",
              "      <th>7</th>\n",
              "      <td>2016-12-21</td>\n",
              "      <td>10:51:21 PM</td>\n",
              "      <td>Sakshi</td>\n",
              "      <td>🙈</td>\n",
              "      <td>🙈</td>\n",
              "      <td>0</td>\n",
              "      <td>1</td>\n",
              "      <td>1</td>\n",
              "      <td>1</td>\n",
              "      <td>1</td>\n",
              "    </tr>\n",
              "    <tr>\n",
              "      <th>8</th>\n",
              "      <td>2016-12-21</td>\n",
              "      <td>10:57:01 PM</td>\n",
              "      <td>Ganguly</td>\n",
              "      <td>🙂🙂👍🏻👍🏻</td>\n",
              "      <td>🙂🙂👍🏻👍🏻</td>\n",
              "      <td>0</td>\n",
              "      <td>6</td>\n",
              "      <td>1</td>\n",
              "      <td>1</td>\n",
              "      <td>6</td>\n",
              "    </tr>\n",
              "    <tr>\n",
              "      <th>9</th>\n",
              "      <td>2016-12-21</td>\n",
              "      <td>11:28:51 PM</td>\n",
              "      <td>Vishnu Gaud</td>\n",
              "      <td>Waste out of wealth 😂</td>\n",
              "      <td>😂</td>\n",
              "      <td>0</td>\n",
              "      <td>21</td>\n",
              "      <td>5</td>\n",
              "      <td>1</td>\n",
              "      <td>1</td>\n",
              "    </tr>\n",
              "  </tbody>\n",
              "</table>\n",
              "</div>"
            ],
            "text/plain": [
              "        Date         Time       Author  ... Word_Count MessageCount  emojicount\n",
              "3 2016-12-21   9:57:45 PM      Shahain  ...          1            1           0\n",
              "6 2016-12-21  10:50:12 PM   Neha Wipro  ...          1            1           6\n",
              "7 2016-12-21  10:51:21 PM       Sakshi  ...          1            1           1\n",
              "8 2016-12-21  10:57:01 PM      Ganguly  ...          1            1           6\n",
              "9 2016-12-21  11:28:51 PM  Vishnu Gaud  ...          5            1           1\n",
              "\n",
              "[5 rows x 10 columns]"
            ]
          },
          "metadata": {
            "tags": []
          },
          "execution_count": 54
        }
      ]
    },
    {
      "cell_type": "code",
      "metadata": {
        "id": "XOPdqCD3IlB0"
      },
      "source": [
        "messages_df[\"emojicount\"]= df['emoji'].str.len()"
      ],
      "execution_count": 53,
      "outputs": []
    },
    {
      "cell_type": "code",
      "metadata": {
        "colab": {
          "base_uri": "https://localhost:8080/"
        },
        "id": "q1v5mc2ZKgfk",
        "outputId": "7fa5b6d4-225f-40dc-8ea2-8b053e702299"
      },
      "source": [
        "l = messages_df.Author.unique()\n",
        "\n",
        "for i in range(len(l)):\n",
        "  # Filtering out messages of particular user\n",
        "  req_df= messages_df[messages_df[\"Author\"] == l[i]]\n",
        "  # req_df will contain messages of only one particular user\n",
        "  print(f'Stats of {l[i]} -')\n",
        "  # shape will print number of rows which indirectly means the number of messages\n",
        "  print('Messages Sent', req_df.shape[0])\n",
        "  #Word_Count contains of total words in one message. Sum of all words/ Total Messages will yield words per message\n",
        "  words_per_message = (np.sum(req_df['Word_Count']))/req_df.shape[0]\n",
        "  print('Words per message', words_per_message)\n",
        "  #media conists of media messages\n",
        "  media = media_messages_df[media_messages_df['Author'] == l[i]].shape[0]\n",
        "  print('Media Messages Sent', media)\n",
        "  # emojis conists of total emojis\n",
        "  emojis = sum(req_df['emoji'].str.len())\n",
        "  print('Emojis Sent', emojis)\n",
        "  #links consist of total links\n",
        "  links = sum(req_df[\"urlcount\"])   \n",
        "  print('Links Sent', links)   \n",
        "  print()"
      ],
      "execution_count": 55,
      "outputs": [
        {
          "output_type": "stream",
          "text": [
            "Stats of Shahain -\n",
            "Messages Sent 72\n",
            "Words per message 5.833333333333333\n",
            "Media Messages Sent 2\n",
            "Emojis Sent 77\n",
            "Links Sent 1\n",
            "\n",
            "Stats of Neha Wipro -\n",
            "Messages Sent 25\n",
            "Words per message 3.8\n",
            "Media Messages Sent 1\n",
            "Emojis Sent 48\n",
            "Links Sent 0\n",
            "\n",
            "Stats of Sakshi -\n",
            "Messages Sent 8\n",
            "Words per message 16.875\n",
            "Media Messages Sent 2\n",
            "Emojis Sent 7\n",
            "Links Sent 0\n",
            "\n",
            "Stats of Ganguly -\n",
            "Messages Sent 4\n",
            "Words per message 3.5\n",
            "Media Messages Sent 0\n",
            "Emojis Sent 8\n",
            "Links Sent 0\n",
            "\n",
            "Stats of Vishnu Gaud -\n",
            "Messages Sent 77\n",
            "Words per message 5.467532467532467\n",
            "Media Messages Sent 4\n",
            "Emojis Sent 80\n",
            "Links Sent 1\n",
            "\n",
            "Stats of Venu Wipro -\n",
            "Messages Sent 5\n",
            "Words per message 1.8\n",
            "Media Messages Sent 1\n",
            "Emojis Sent 0\n",
            "Links Sent 0\n",
            "\n",
            "Stats of Kushbhu -\n",
            "Messages Sent 13\n",
            "Words per message 39.92307692307692\n",
            "Media Messages Sent 0\n",
            "Emojis Sent 90\n",
            "Links Sent 1\n",
            "\n",
            "Stats of Preeti -\n",
            "Messages Sent 36\n",
            "Words per message 14.527777777777779\n",
            "Media Messages Sent 9\n",
            "Emojis Sent 95\n",
            "Links Sent 0\n",
            "\n",
            "Stats of Pankaj Sinha -\n",
            "Messages Sent 32\n",
            "Words per message 7.875\n",
            "Media Messages Sent 1\n",
            "Emojis Sent 72\n",
            "Links Sent 1\n",
            "\n",
            "Stats of Mukti Sharma -\n",
            "Messages Sent 29\n",
            "Words per message 9.310344827586206\n",
            "Media Messages Sent 0\n",
            "Emojis Sent 85\n",
            "Links Sent 0\n",
            "\n",
            "Stats of Shweta -\n",
            "Messages Sent 3\n",
            "Words per message 3.3333333333333335\n",
            "Media Messages Sent 0\n",
            "Emojis Sent 7\n",
            "Links Sent 0\n",
            "\n",
            "Stats of Kranthi -\n",
            "Messages Sent 7\n",
            "Words per message 5.714285714285714\n",
            "Media Messages Sent 0\n",
            "Emojis Sent 6\n",
            "Links Sent 0\n",
            "\n",
            "Stats of Sahil Phatania -\n",
            "Messages Sent 17\n",
            "Words per message 8.705882352941176\n",
            "Media Messages Sent 4\n",
            "Emojis Sent 70\n",
            "Links Sent 0\n",
            "\n",
            "Stats of Shradha -\n",
            "Messages Sent 2\n",
            "Words per message 2.5\n",
            "Media Messages Sent 0\n",
            "Emojis Sent 0\n",
            "Links Sent 0\n",
            "\n",
            "Stats of Yogesh Raghavan -\n",
            "Messages Sent 3\n",
            "Words per message 3.3333333333333335\n",
            "Media Messages Sent 0\n",
            "Emojis Sent 3\n",
            "Links Sent 0\n",
            "\n"
          ],
          "name": "stdout"
        }
      ]
    },
    {
      "cell_type": "code",
      "metadata": {
        "colab": {
          "base_uri": "https://localhost:8080/",
          "height": 296
        },
        "id": "K3-cdQ-vK8Ba",
        "outputId": "5081134b-8944-4de2-d8a2-e0775c93f897"
      },
      "source": [
        "def f(i):\n",
        "  l = [\"Monday\", \"Tuesday\", \"Wednesday\", \"Thursday\", \"Friday\", \"Saturday\", \"Sunday\"]\n",
        "  return l[i];\n",
        "day_df=pd.DataFrame(messages_df[\"Message\"])\n",
        "day_df['day_of_date'] = messages_df['Date'].dt.weekday\n",
        "day_df['day_of_date'] = day_df[\"day_of_date\"].apply(f)\n",
        "day_df[\"messagecount\"] = 1\n",
        "day = day_df.groupby(\"day_of_date\").sum() \n",
        "day.plot.barh()\n",
        "plt.xlabel('Number of Messages')\n",
        "plt.ylabel('Day')"
      ],
      "execution_count": 56,
      "outputs": [
        {
          "output_type": "execute_result",
          "data": {
            "text/plain": [
              "Text(0, 0.5, 'Day')"
            ]
          },
          "metadata": {
            "tags": []
          },
          "execution_count": 56
        },
        {
          "output_type": "display_data",
          "data": {
            "image/png": "[encoded data removed]",
            "text/plain": [
              "<Figure size 432x288 with 1 Axes>"
            ]
          },
          "metadata": {
            "tags": [],
            "needs_background": "light"
          }
        }
      ]
    },
    {
      "cell_type": "markdown",
      "metadata": {
        "id": "2AMHiXSqfypD"
      },
      "source": [
        "Messages by time"
      ]
    },
    {
      "cell_type": "code",
      "metadata": {
        "id": "D_sg9-S3paZX"
      },
      "source": [
        "messages_df['Hours'] = pd.to_datetime(messages_df['Time']).dt.strftime('%H')"
      ],
      "execution_count": 57,
      "outputs": []
    },
    {
      "cell_type": "code",
      "metadata": {
        "colab": {
          "base_uri": "https://localhost:8080/",
          "height": 296
        },
        "id": "JxlrUmO-fyVw",
        "outputId": "1eec6ec9-6f62-4c3b-9c26-5fc8bdd0bc32"
      },
      "source": [
        "dt = messages_df['Hours'].value_counts()\n",
        "dt.head(24).plot.barh()\n",
        "plt.xlabel('Number of messages')\n",
        "plt.ylabel('Hours')"
      ],
      "execution_count": 58,
      "outputs": [
        {
          "output_type": "execute_result",
          "data": {
            "text/plain": [
              "Text(0, 0.5, 'Hours')"
            ]
          },
          "metadata": {
            "tags": []
          },
          "execution_count": 58
        },
        {
          "output_type": "display_data",
          "data": {
            "image/png": "[encoded data removed]",
            "text/plain": [
              "<Figure size 432x288 with 1 Axes>"
            ]
          },
          "metadata": {
            "tags": [],
            "needs_background": "light"
          }
        }
      ]
    },
    {
      "cell_type": "code",
      "metadata": {
        "colab": {
          "base_uri": "https://localhost:8080/",
          "height": 296
        },
        "id": "7GSGqJ-4xHpj",
        "outputId": "92b4796c-1028-4bf3-e922-4768230a61ec"
      },
      "source": [
        "messages_df['DayPart'] = messages_df['Hours'].astype(int).apply(getDayPart)\n",
        "daypart = messages_df['DayPart'].value_counts()\n",
        "daypart.head().plot.barh()\n",
        "plt.xlabel('Number of messages')\n",
        "plt.ylabel('Part of the Day')"
      ],
      "execution_count": 31,
      "outputs": [
        {
          "output_type": "execute_result",
          "data": {
            "text/plain": [
              "Text(0, 0.5, 'Part of the Day')"
            ]
          },
          "metadata": {
            "tags": []
          },
          "execution_count": 31
        },
        {
          "output_type": "display_data",
          "data": {
            "image/png": "[encoded data removed]",
            "text/plain": [
              "<Figure size 432x288 with 1 Axes>"
            ]
          },
          "metadata": {
            "tags": [],
            "needs_background": "light"
          }
        }
      ]
    },
    {
      "cell_type": "markdown",
      "metadata": {
        "id": "z2mEzMfdPa_y"
      },
      "source": [
        "**Messages count by author**"
      ]
    },
    {
      "cell_type": "code",
      "metadata": {
        "colab": {
          "base_uri": "https://localhost:8080/",
          "height": 296
        },
        "id": "2F73AHq4MtUc",
        "outputId": "3cb8b7be-8531-4ed8-9e1c-fec4ff6fcb36"
      },
      "source": [
        "author_value_counts = df['Author'].value_counts() # Number of messages per author\n",
        "#top_author_value_counts = author_value_counts.head() # Number of messages per author for the top 10 most active authors\n",
        "author_value_counts.plot.barh() # Plot a bar chart using pandas built-in plotting apis\n",
        "plt.xlabel('Number of Messages')\n",
        "plt.ylabel('Author')"
      ],
      "execution_count": 65,
      "outputs": [
        {
          "output_type": "execute_result",
          "data": {
            "text/plain": [
              "Text(0, 0.5, 'Author')"
            ]
          },
          "metadata": {
            "tags": []
          },
          "execution_count": 65
        },
        {
          "output_type": "display_data",
          "data": {
            "image/png": "[encoded data removed]",
            "text/plain": [
              "<Figure size 432x288 with 1 Axes>"
            ]
          },
          "metadata": {
            "tags": [],
            "needs_background": "light"
          }
        }
      ]
    },
    {
      "cell_type": "markdown",
      "metadata": {
        "id": "7TzTFwZU7TRd"
      },
      "source": [
        "Vishnu and Shahain are most active users, while Shradha and Shweta are least active users"
      ]
    },
    {
      "cell_type": "markdown",
      "metadata": {
        "id": "4m4AnxxpOiGl"
      },
      "source": [
        "**Media messages count by author**"
      ]
    },
    {
      "cell_type": "code",
      "metadata": {
        "colab": {
          "base_uri": "https://localhost:8080/",
          "height": 296
        },
        "id": "heB4zURZM-Xm",
        "outputId": "acb3ecf6-d91d-480a-a4d6-a841e2d8d94a"
      },
      "source": [
        "author_media_messages_value_counts = media_messages_df['Author'].value_counts()\n",
        "top_author_media_messages_value_counts = author_media_messages_value_counts.head()\n",
        "top_author_media_messages_value_counts.plot.barh()\n",
        "plt.xlabel('Number of Media Messages')\n",
        "plt.ylabel('Author')"
      ],
      "execution_count": 33,
      "outputs": [
        {
          "output_type": "execute_result",
          "data": {
            "text/plain": [
              "Text(0, 0.5, 'Author')"
            ]
          },
          "metadata": {
            "tags": []
          },
          "execution_count": 33
        },
        {
          "output_type": "display_data",
          "data": {
            "image/png": "[encoded data removed]",
            "text/plain": [
              "<Figure size 432x288 with 1 Axes>"
            ]
          },
          "metadata": {
            "tags": [],
            "needs_background": "light"
          }
        }
      ]
    },
    {
      "cell_type": "markdown",
      "metadata": {
        "id": "qBKHHTm_Pm7s"
      },
      "source": [
        "**Total word count by author**"
      ]
    },
    {
      "cell_type": "code",
      "metadata": {
        "colab": {
          "base_uri": "https://localhost:8080/",
          "height": 296
        },
        "id": "TK5Gstn6NR2Q",
        "outputId": "ce8f773d-6f79-44b0-cf7b-edff6f77457f"
      },
      "source": [
        "total_word_count_grouped_by_author = messages_df[['Author', 'Word_Count']].groupby('Author').sum()\n",
        "sorted_total_word_count_grouped_by_author = total_word_count_grouped_by_author.sort_values('Word_Count', ascending=False)\n",
        "#top_sorted_total_word_count_grouped_by_author = sorted_total_word_count_grouped_by_author.head()\n",
        "sorted_total_word_count_grouped_by_author.plot.barh()\n",
        "plt.xlabel('Number of Words')\n",
        "plt.ylabel('Authors')"
      ],
      "execution_count": 64,
      "outputs": [
        {
          "output_type": "execute_result",
          "data": {
            "text/plain": [
              "Text(0, 0.5, 'Authors')"
            ]
          },
          "metadata": {
            "tags": []
          },
          "execution_count": 64
        },
        {
          "output_type": "display_data",
          "data": {
            "image/png": "[encoded data removed]",
            "text/plain": [
              "<Figure size 432x288 with 1 Axes>"
            ]
          },
          "metadata": {
            "tags": [],
            "needs_background": "light"
          }
        }
      ]
    },
    {
      "cell_type": "markdown",
      "metadata": {
        "id": "SLT-oPCWP4it"
      },
      "source": [
        "**Most common word count in a message**"
      ]
    },
    {
      "cell_type": "code",
      "metadata": {
        "colab": {
          "base_uri": "https://localhost:8080/",
          "height": 190
        },
        "id": "OSd1y6rlNcG0",
        "outputId": "4b88f148-d131-4312-c329-15e92a3afb1f"
      },
      "source": [
        "plt.figure(figsize=(15, 2)) # To ensure that the bar plot fits in the output cell of a Jupyter notebook\n",
        "word_count_value_counts = messages_df['Word_Count'].value_counts()\n",
        "top_20_word_count_value_counts = word_count_value_counts.head(20)\n",
        "top_20_word_count_value_counts.plot.bar()\n",
        "plt.xlabel('Word Count')\n",
        "plt.ylabel('Frequency')"
      ],
      "execution_count": 35,
      "outputs": [
        {
          "output_type": "execute_result",
          "data": {
            "text/plain": [
              "Text(0, 0.5, 'Frequency')"
            ]
          },
          "metadata": {
            "tags": []
          },
          "execution_count": 35
        },
        {
          "output_type": "display_data",
          "data": {
            "image/png": "[encoded data removed]",
            "text/plain": [
              "<Figure size 1080x144 with 1 Axes>"
            ]
          },
          "metadata": {
            "tags": [],
            "needs_background": "light"
          }
        }
      ]
    },
    {
      "cell_type": "markdown",
      "metadata": {
        "id": "HEQ-kGYN8J4K"
      },
      "source": [
        "As we see graph, we can say - People prefers small messages."
      ]
    },
    {
      "cell_type": "markdown",
      "metadata": {
        "id": "eG62X66GOGGm"
      },
      "source": [
        "**Most common letter count in a message**"
      ]
    },
    {
      "cell_type": "code",
      "metadata": {
        "colab": {
          "base_uri": "https://localhost:8080/",
          "height": 190
        },
        "id": "qPIzuhqCOFYK",
        "outputId": "9170cf2a-1c4c-490e-e018-2de1f5fb11ab"
      },
      "source": [
        "plt.figure(figsize=(15, 2))\n",
        "letter_count_value_counts = messages_df['Letter_Count'].value_counts()\n",
        "top_20_letter_count_value_counts = letter_count_value_counts.head(20)\n",
        "top_20_letter_count_value_counts.plot.bar()\n",
        "plt.xlabel('Letter count')\n",
        "plt.ylabel('Frequency')"
      ],
      "execution_count": 37,
      "outputs": [
        {
          "output_type": "execute_result",
          "data": {
            "text/plain": [
              "Text(0, 0.5, 'Frequency')"
            ]
          },
          "metadata": {
            "tags": []
          },
          "execution_count": 37
        },
        {
          "output_type": "display_data",
          "data": {
            "image/png": "[encoded data removed]",
            "text/plain": [
              "<Figure size 1080x144 with 1 Axes>"
            ]
          },
          "metadata": {
            "tags": [],
            "needs_background": "light"
          }
        }
      ]
    },
    {
      "cell_type": "markdown",
      "metadata": {
        "id": "RRV6xPKR8b5R"
      },
      "source": [
        "Although we can say similar about letters, but people have prefered big letter meassages as well"
      ]
    },
    {
      "cell_type": "markdown",
      "metadata": {
        "id": "veX_FN8X7-1Y"
      },
      "source": [
        "**Most Frequently used word**"
      ]
    },
    {
      "cell_type": "code",
      "metadata": {
        "colab": {
          "base_uri": "https://localhost:8080/",
          "height": 889
        },
        "id": "V_lIzX2CZEuG",
        "outputId": "f77fa2cf-a1e1-415b-8c06-292bf8c4d2e4"
      },
      "source": [
        "from sklearn.feature_extraction.text import CountVectorizer\n",
        "word_vectorizer = CountVectorizer(ngram_range=(1,2), analyzer='word')\n",
        "sparse_matrix = word_vectorizer.fit_transform(messages_df['Message'])\n",
        "frequencies = sum(sparse_matrix).toarray()[0]\n",
        "pd1 = pd.DataFrame(frequencies, index=word_vectorizer.get_feature_names(), columns=['frequency'])\n",
        "pd1.sort_values('frequency',inplace=True,ascending=False)\n",
        "pd2 = pd1.head(20)\n",
        "pd2.plot.bar()\n",
        "plt.xlabel('Word')\n",
        "plt.ylabel('Total word Count')"
      ],
      "execution_count": 38,
      "outputs": [
        {
          "output_type": "execute_result",
          "data": {
            "text/plain": [
              "Text(0, 0.5, 'Total word Count')"
            ]
          },
          "metadata": {
            "tags": []
          },
          "execution_count": 38
        },
        {
          "output_type": "stream",
          "text": [
            "/usr/local/lib/python3.7/dist-packages/matplotlib/backends/backend_agg.py:214: RuntimeWarning:\n",
            "\n",
            "Glyph 2344 missing from current font.\n",
            "\n",
            "/usr/local/lib/python3.7/dist-packages/matplotlib/backends/backend_agg.py:214: RuntimeWarning:\n",
            "\n",
            "Glyph 2361 missing from current font.\n",
            "\n",
            "/usr/local/lib/python3.7/dist-packages/matplotlib/backends/backend_agg.py:214: RuntimeWarning:\n",
            "\n",
            "Glyph 2325 missing from current font.\n",
            "\n",
            "/usr/local/lib/python3.7/dist-packages/matplotlib/backends/backend_agg.py:214: RuntimeWarning:\n",
            "\n",
            "Glyph 2352 missing from current font.\n",
            "\n",
            "/usr/local/lib/python3.7/dist-packages/matplotlib/backends/backend_agg.py:183: RuntimeWarning:\n",
            "\n",
            "Glyph 2344 missing from current font.\n",
            "\n",
            "/usr/local/lib/python3.7/dist-packages/matplotlib/backends/backend_agg.py:183: RuntimeWarning:\n",
            "\n",
            "Glyph 2361 missing from current font.\n",
            "\n",
            "/usr/local/lib/python3.7/dist-packages/matplotlib/backends/backend_agg.py:183: RuntimeWarning:\n",
            "\n",
            "Glyph 2325 missing from current font.\n",
            "\n",
            "/usr/local/lib/python3.7/dist-packages/matplotlib/backends/backend_agg.py:183: RuntimeWarning:\n",
            "\n",
            "Glyph 2352 missing from current font.\n",
            "\n"
          ],
          "name": "stderr"
        },
        {
          "output_type": "display_data",
          "data": {
            "image/png": "[encoded data removed]",
            "text/plain": [
              "<Figure size 432x288 with 1 Axes>"
            ]
          },
          "metadata": {
            "tags": [],
            "needs_background": "light"
          }
        }
      ]
    },
    {
      "cell_type": "markdown",
      "metadata": {
        "id": "iTCpFr5l7wSK"
      },
      "source": [
        "We have few hindi text messages exchanged, thats why you are seeing above warning and blank text in graph."
      ]
    },
    {
      "cell_type": "markdown",
      "metadata": {
        "id": "i-kwQw047oQY"
      },
      "source": [
        "**Emoji Lover**"
      ]
    },
    {
      "cell_type": "code",
      "metadata": {
        "colab": {
          "base_uri": "https://localhost:8080/",
          "height": 313
        },
        "id": "V0hLPU6K2x1h",
        "outputId": "82ba08ab-156b-41ab-82ca-173d557c19c2"
      },
      "source": [
        "plt.figure(figsize=(18, 2))\n",
        "total_emoji_by_author = messages_df[['Author', 'emojicount']].groupby('Author').sum()\n",
        "total_emoji_by_author = total_emoji_by_author.sort_values('emojicount', ascending=False)\n",
        "total_emoji_by_author.plot.barh()\n",
        "plt.xlabel('Number of Emoji')\n",
        "plt.ylabel('Authors')"
      ],
      "execution_count": 62,
      "outputs": [
        {
          "output_type": "execute_result",
          "data": {
            "text/plain": [
              "Text(0, 0.5, 'Authors')"
            ]
          },
          "metadata": {
            "tags": []
          },
          "execution_count": 62
        },
        {
          "output_type": "display_data",
          "data": {
            "text/plain": [
              "<Figure size 1296x144 with 0 Axes>"
            ]
          },
          "metadata": {
            "tags": []
          }
        },
        {
          "output_type": "display_data",
          "data": {
            "image/png": "[encoded data removed]",
            "text/plain": [
              "<Figure size 432x288 with 1 Axes>"
            ]
          },
          "metadata": {
            "tags": [],
            "needs_background": "light"
          }
        }
      ]
    },
    {
      "cell_type": "markdown",
      "metadata": {
        "id": "N7cth9iy6GcQ"
      },
      "source": [
        "We can say Preeti is emoji lover, while Shradha dont like emoji."
      ]
    }
  ]
}